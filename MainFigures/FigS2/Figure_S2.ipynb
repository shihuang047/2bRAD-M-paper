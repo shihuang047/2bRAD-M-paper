{
 "cells": [
  {
   "cell_type": "code",
   "execution_count": 7,
   "metadata": {},
   "outputs": [],
   "source": [
    "p <- c(\"reshape2\",\"ggplot2\",\"pheatmap\",\"dplyr\",\"corrplot\", \"cowplot\")\n",
    "usePackage <- function(p) {\n",
    "  if (!is.element(p, installed.packages()[,1]))\n",
    "    install.packages(p, dep=TRUE, repos=\"https://cloud.r-project.org/\")\n",
    "  suppressWarnings(suppressMessages(invisible(require(p, character.only=TRUE))))\n",
    "}\n",
    "invisible(lapply(p, usePackage))\n"
   ]
  },
  {
   "cell_type": "code",
   "execution_count": 8,
   "metadata": {},
   "outputs": [],
   "source": [
    "setwd(\"./\")\n",
    "outpath=\"./\""
   ]
  },
  {
   "cell_type": "code",
   "execution_count": 4,
   "metadata": {},
   "outputs": [],
   "source": [
    "all <- read.table(\"2bTags_and_origin_genomes_stats.tsv\", sep=\"\\t\", header=TRUE)"
   ]
  },
  {
   "cell_type": "code",
   "execution_count": 5,
   "metadata": {},
   "outputs": [
    {
     "data": {
      "text/plain": [
       "       RE                  Genome_ID         Tag_size         Tag_GC_perc   \n",
       " AlfI   : 8588   GCF_000427115.1:    16   Min.   :     0.0   Min.   : 0.00  \n",
       " AloI   : 8588   GCF_000427135.1:    16   1st Qu.:    27.0   1st Qu.:37.04  \n",
       " BaeI   : 8588   GCF_000427155.1:    16   Median :   108.0   Median :45.68  \n",
       " BcgI   : 8588   GCF_000427175.1:    16   Mean   :   529.4   Mean   :39.81  \n",
       " BplI   : 8588   GCF_000819615.1:    16   3rd Qu.:   378.0   3rd Qu.:52.67  \n",
       " BsaXI  : 8588   GCF_000820355.1:    16   Max.   :122202.0   Max.   :87.04  \n",
       " (Other):85880   (Other)        :137312                                     \n",
       " Tag_ave_interval    Genome_size      Genome_GC_perc      Kingdom      \n",
       " Min.   :     0.0   Min.   :    220   Min.   :22.02   archaea :     0  \n",
       " 1st Qu.:     0.0   1st Qu.:   4696   1st Qu.:40.46   bacteria:     0  \n",
       " Median :   510.6   Median :   9393   Median :44.66   fungi   :     0  \n",
       " Mean   :  1784.2   Mean   :  31468   Mean   :45.95   human   :     0  \n",
       " 3rd Qu.:  1807.0   3rd Qu.:  37336   3rd Qu.:50.69   virus   :137408  \n",
       " Max.   :145155.0   Max.   :2473870   Max.   :72.80                    \n",
       "                                                                       "
      ]
     },
     "metadata": {},
     "output_type": "display_data"
    }
   ],
   "source": [
    "summary(subset(all, Kingdom==\"virus\"))"
   ]
  },
  {
   "cell_type": "code",
   "execution_count": 9,
   "metadata": {},
   "outputs": [
    {
     "data": {
      "text/html": [
       "<table>\n",
       "<thead><tr><th scope=col>RE</th><th scope=col>corr.Tag_VS_Genome_size</th><th scope=col>p.corr.Tag_VS_Genome_size</th><th scope=col>corr.Tag_VS_Genome_GC</th><th scope=col>p.corr.Tag_VS_Genome_GC</th></tr></thead>\n",
       "<tbody>\n",
       "\t<tr><td>AlfI     </td><td>0.9775928</td><td>0        </td><td>0.5727058</td><td>0        </td></tr>\n",
       "\t<tr><td>AloI     </td><td>0.9880923</td><td>0        </td><td>0.4834236</td><td>0        </td></tr>\n",
       "\t<tr><td>BaeI     </td><td>0.9839544</td><td>0        </td><td>0.5313419</td><td>0        </td></tr>\n",
       "\t<tr><td>BcgI     </td><td>0.7021223</td><td>0        </td><td>0.6014250</td><td>0        </td></tr>\n",
       "\t<tr><td>BplI     </td><td>0.9955097</td><td>0        </td><td>0.5474989</td><td>0        </td></tr>\n",
       "\t<tr><td>BsaXI    </td><td>0.9959043</td><td>0        </td><td>0.6425520</td><td>0        </td></tr>\n",
       "\t<tr><td>BslFI    </td><td>0.9952118</td><td>0        </td><td>0.8527631</td><td>0        </td></tr>\n",
       "\t<tr><td>Bsp24I   </td><td>0.9919444</td><td>0        </td><td>0.6438385</td><td>0        </td></tr>\n",
       "\t<tr><td>CjeI     </td><td>0.9987711</td><td>0        </td><td>0.9053609</td><td>0        </td></tr>\n",
       "\t<tr><td>CjePI    </td><td>0.9982078</td><td>0        </td><td>0.9160396</td><td>0        </td></tr>\n",
       "\t<tr><td>CspCI    </td><td>0.9970187</td><td>0        </td><td>0.4991901</td><td>0        </td></tr>\n",
       "\t<tr><td>FalI     </td><td>0.9971404</td><td>0        </td><td>0.6006397</td><td>0        </td></tr>\n",
       "\t<tr><td>HaeIV    </td><td>0.9851300</td><td>0        </td><td>0.8087660</td><td>0        </td></tr>\n",
       "\t<tr><td>Hin4I    </td><td>0.9983509</td><td>0        </td><td>0.9122344</td><td>0        </td></tr>\n",
       "\t<tr><td>PpiI     </td><td>0.9858948</td><td>0        </td><td>0.4947221</td><td>0        </td></tr>\n",
       "\t<tr><td>PsrI     </td><td>0.9967427</td><td>0        </td><td>0.4550921</td><td>0        </td></tr>\n",
       "</tbody>\n",
       "</table>\n"
      ],
      "text/latex": [
       "\\begin{tabular}{r|lllll}\n",
       " RE & corr.Tag\\_VS\\_Genome\\_size & p.corr.Tag\\_VS\\_Genome\\_size & corr.Tag\\_VS\\_Genome\\_GC & p.corr.Tag\\_VS\\_Genome\\_GC\\\\\n",
       "\\hline\n",
       "\t AlfI      & 0.9775928 & 0         & 0.5727058 & 0        \\\\\n",
       "\t AloI      & 0.9880923 & 0         & 0.4834236 & 0        \\\\\n",
       "\t BaeI      & 0.9839544 & 0         & 0.5313419 & 0        \\\\\n",
       "\t BcgI      & 0.7021223 & 0         & 0.6014250 & 0        \\\\\n",
       "\t BplI      & 0.9955097 & 0         & 0.5474989 & 0        \\\\\n",
       "\t BsaXI     & 0.9959043 & 0         & 0.6425520 & 0        \\\\\n",
       "\t BslFI     & 0.9952118 & 0         & 0.8527631 & 0        \\\\\n",
       "\t Bsp24I    & 0.9919444 & 0         & 0.6438385 & 0        \\\\\n",
       "\t CjeI      & 0.9987711 & 0         & 0.9053609 & 0        \\\\\n",
       "\t CjePI     & 0.9982078 & 0         & 0.9160396 & 0        \\\\\n",
       "\t CspCI     & 0.9970187 & 0         & 0.4991901 & 0        \\\\\n",
       "\t FalI      & 0.9971404 & 0         & 0.6006397 & 0        \\\\\n",
       "\t HaeIV     & 0.9851300 & 0         & 0.8087660 & 0        \\\\\n",
       "\t Hin4I     & 0.9983509 & 0         & 0.9122344 & 0        \\\\\n",
       "\t PpiI      & 0.9858948 & 0         & 0.4947221 & 0        \\\\\n",
       "\t PsrI      & 0.9967427 & 0         & 0.4550921 & 0        \\\\\n",
       "\\end{tabular}\n"
      ],
      "text/markdown": [
       "\n",
       "RE | corr.Tag_VS_Genome_size | p.corr.Tag_VS_Genome_size | corr.Tag_VS_Genome_GC | p.corr.Tag_VS_Genome_GC | \n",
       "|---|---|---|---|---|---|---|---|---|---|---|---|---|---|---|---|\n",
       "| AlfI      | 0.9775928 | 0         | 0.5727058 | 0         | \n",
       "| AloI      | 0.9880923 | 0         | 0.4834236 | 0         | \n",
       "| BaeI      | 0.9839544 | 0         | 0.5313419 | 0         | \n",
       "| BcgI      | 0.7021223 | 0         | 0.6014250 | 0         | \n",
       "| BplI      | 0.9955097 | 0         | 0.5474989 | 0         | \n",
       "| BsaXI     | 0.9959043 | 0         | 0.6425520 | 0         | \n",
       "| BslFI     | 0.9952118 | 0         | 0.8527631 | 0         | \n",
       "| Bsp24I    | 0.9919444 | 0         | 0.6438385 | 0         | \n",
       "| CjeI      | 0.9987711 | 0         | 0.9053609 | 0         | \n",
       "| CjePI     | 0.9982078 | 0         | 0.9160396 | 0         | \n",
       "| CspCI     | 0.9970187 | 0         | 0.4991901 | 0         | \n",
       "| FalI      | 0.9971404 | 0         | 0.6006397 | 0         | \n",
       "| HaeIV     | 0.9851300 | 0         | 0.8087660 | 0         | \n",
       "| Hin4I     | 0.9983509 | 0         | 0.9122344 | 0         | \n",
       "| PpiI      | 0.9858948 | 0         | 0.4947221 | 0         | \n",
       "| PsrI      | 0.9967427 | 0         | 0.4550921 | 0         | \n",
       "\n",
       "\n"
      ],
      "text/plain": [
       "   RE     corr.Tag_VS_Genome_size p.corr.Tag_VS_Genome_size\n",
       "1  AlfI   0.9775928               0                        \n",
       "2  AloI   0.9880923               0                        \n",
       "3  BaeI   0.9839544               0                        \n",
       "4  BcgI   0.7021223               0                        \n",
       "5  BplI   0.9955097               0                        \n",
       "6  BsaXI  0.9959043               0                        \n",
       "7  BslFI  0.9952118               0                        \n",
       "8  Bsp24I 0.9919444               0                        \n",
       "9  CjeI   0.9987711               0                        \n",
       "10 CjePI  0.9982078               0                        \n",
       "11 CspCI  0.9970187               0                        \n",
       "12 FalI   0.9971404               0                        \n",
       "13 HaeIV  0.9851300               0                        \n",
       "14 Hin4I  0.9983509               0                        \n",
       "15 PpiI   0.9858948               0                        \n",
       "16 PsrI   0.9967427               0                        \n",
       "   corr.Tag_VS_Genome_GC p.corr.Tag_VS_Genome_GC\n",
       "1  0.5727058             0                      \n",
       "2  0.4834236             0                      \n",
       "3  0.5313419             0                      \n",
       "4  0.6014250             0                      \n",
       "5  0.5474989             0                      \n",
       "6  0.6425520             0                      \n",
       "7  0.8527631             0                      \n",
       "8  0.6438385             0                      \n",
       "9  0.9053609             0                      \n",
       "10 0.9160396             0                      \n",
       "11 0.4991901             0                      \n",
       "12 0.6006397             0                      \n",
       "13 0.8087660             0                      \n",
       "14 0.9122344             0                      \n",
       "15 0.4947221             0                      \n",
       "16 0.4550921             0                      "
      ]
     },
     "metadata": {},
     "output_type": "display_data"
    }
   ],
   "source": [
    "all_corr<-all %>% group_by(RE) %>% \n",
    "    summarize(corr.Tag_VS_Genome_size=cor.test(Tag_size, Genome_size)$estimate,\n",
    "              p.corr.Tag_VS_Genome_size=cor.test(Tag_size, Genome_size)$p.value, \n",
    "              corr.Tag_VS_Genome_GC=cor.test(Tag_GC_perc, Genome_GC_perc)$estimate,\n",
    "              p.corr.Tag_VS_Genome_GC=cor.test(Tag_GC_perc, Genome_GC_perc)$p.value\n",
    "             )\n",
    "\n",
    "all_corr"
   ]
  },
  {
   "cell_type": "code",
   "execution_count": 10,
   "metadata": {},
   "outputs": [
    {
     "data": {
      "text/html": [
       "<table>\n",
       "<thead><tr><th scope=col>RE</th><th scope=col>corr.Tag_VS_Genome_size</th><th scope=col>p.corr.Tag_VS_Genome_size</th><th scope=col>corr.Tag_VS_Genome_GC</th><th scope=col>p.corr.Tag_VS_Genome_GC</th></tr></thead>\n",
       "<tbody>\n",
       "\t<tr><td>AlfI     </td><td>0.9806213</td><td>0        </td><td>0.9956262</td><td>0        </td></tr>\n",
       "\t<tr><td>AloI     </td><td>0.9890650</td><td>0        </td><td>0.9900252</td><td>0        </td></tr>\n",
       "\t<tr><td>BaeI     </td><td>0.9849816</td><td>0        </td><td>0.9932390</td><td>0        </td></tr>\n",
       "\t<tr><td>BcgI     </td><td>0.7235444</td><td>0        </td><td>0.9944791</td><td>0        </td></tr>\n",
       "\t<tr><td>BplI     </td><td>0.9970339</td><td>0        </td><td>0.9914125</td><td>0        </td></tr>\n",
       "\t<tr><td>BsaXI    </td><td>0.9961241</td><td>0        </td><td>0.9935173</td><td>0        </td></tr>\n",
       "\t<tr><td>BslFI    </td><td>0.9953883</td><td>0        </td><td>0.9943404</td><td>0        </td></tr>\n",
       "\t<tr><td>Bsp24I   </td><td>0.9920269</td><td>0        </td><td>0.9920006</td><td>0        </td></tr>\n",
       "\t<tr><td>CjeI     </td><td>0.9988060</td><td>0        </td><td>0.9979655</td><td>0        </td></tr>\n",
       "\t<tr><td>CjePI    </td><td>0.9982893</td><td>0        </td><td>0.9981371</td><td>0        </td></tr>\n",
       "\t<tr><td>CspCI    </td><td>0.9975195</td><td>0        </td><td>0.9914580</td><td>0        </td></tr>\n",
       "\t<tr><td>FalI     </td><td>0.9973961</td><td>0        </td><td>0.9951470</td><td>0        </td></tr>\n",
       "\t<tr><td>HaeIV    </td><td>0.9861649</td><td>0        </td><td>0.9961590</td><td>0        </td></tr>\n",
       "\t<tr><td>Hin4I    </td><td>0.9985167</td><td>0        </td><td>0.9979015</td><td>0        </td></tr>\n",
       "\t<tr><td>PpiI     </td><td>0.9862126</td><td>0        </td><td>0.9914528</td><td>0        </td></tr>\n",
       "\t<tr><td>PsrI     </td><td>0.9970329</td><td>0        </td><td>0.9704459</td><td>0        </td></tr>\n",
       "</tbody>\n",
       "</table>\n"
      ],
      "text/latex": [
       "\\begin{tabular}{r|lllll}\n",
       " RE & corr.Tag\\_VS\\_Genome\\_size & p.corr.Tag\\_VS\\_Genome\\_size & corr.Tag\\_VS\\_Genome\\_GC & p.corr.Tag\\_VS\\_Genome\\_GC\\\\\n",
       "\\hline\n",
       "\t AlfI      & 0.9806213 & 0         & 0.9956262 & 0        \\\\\n",
       "\t AloI      & 0.9890650 & 0         & 0.9900252 & 0        \\\\\n",
       "\t BaeI      & 0.9849816 & 0         & 0.9932390 & 0        \\\\\n",
       "\t BcgI      & 0.7235444 & 0         & 0.9944791 & 0        \\\\\n",
       "\t BplI      & 0.9970339 & 0         & 0.9914125 & 0        \\\\\n",
       "\t BsaXI     & 0.9961241 & 0         & 0.9935173 & 0        \\\\\n",
       "\t BslFI     & 0.9953883 & 0         & 0.9943404 & 0        \\\\\n",
       "\t Bsp24I    & 0.9920269 & 0         & 0.9920006 & 0        \\\\\n",
       "\t CjeI      & 0.9988060 & 0         & 0.9979655 & 0        \\\\\n",
       "\t CjePI     & 0.9982893 & 0         & 0.9981371 & 0        \\\\\n",
       "\t CspCI     & 0.9975195 & 0         & 0.9914580 & 0        \\\\\n",
       "\t FalI      & 0.9973961 & 0         & 0.9951470 & 0        \\\\\n",
       "\t HaeIV     & 0.9861649 & 0         & 0.9961590 & 0        \\\\\n",
       "\t Hin4I     & 0.9985167 & 0         & 0.9979015 & 0        \\\\\n",
       "\t PpiI      & 0.9862126 & 0         & 0.9914528 & 0        \\\\\n",
       "\t PsrI      & 0.9970329 & 0         & 0.9704459 & 0        \\\\\n",
       "\\end{tabular}\n"
      ],
      "text/markdown": [
       "\n",
       "RE | corr.Tag_VS_Genome_size | p.corr.Tag_VS_Genome_size | corr.Tag_VS_Genome_GC | p.corr.Tag_VS_Genome_GC | \n",
       "|---|---|---|---|---|---|---|---|---|---|---|---|---|---|---|---|\n",
       "| AlfI      | 0.9806213 | 0         | 0.9956262 | 0         | \n",
       "| AloI      | 0.9890650 | 0         | 0.9900252 | 0         | \n",
       "| BaeI      | 0.9849816 | 0         | 0.9932390 | 0         | \n",
       "| BcgI      | 0.7235444 | 0         | 0.9944791 | 0         | \n",
       "| BplI      | 0.9970339 | 0         | 0.9914125 | 0         | \n",
       "| BsaXI     | 0.9961241 | 0         | 0.9935173 | 0         | \n",
       "| BslFI     | 0.9953883 | 0         | 0.9943404 | 0         | \n",
       "| Bsp24I    | 0.9920269 | 0         | 0.9920006 | 0         | \n",
       "| CjeI      | 0.9988060 | 0         | 0.9979655 | 0         | \n",
       "| CjePI     | 0.9982893 | 0         | 0.9981371 | 0         | \n",
       "| CspCI     | 0.9975195 | 0         | 0.9914580 | 0         | \n",
       "| FalI      | 0.9973961 | 0         | 0.9951470 | 0         | \n",
       "| HaeIV     | 0.9861649 | 0         | 0.9961590 | 0         | \n",
       "| Hin4I     | 0.9985167 | 0         | 0.9979015 | 0         | \n",
       "| PpiI      | 0.9862126 | 0         | 0.9914528 | 0         | \n",
       "| PsrI      | 0.9970329 | 0         | 0.9704459 | 0         | \n",
       "\n",
       "\n"
      ],
      "text/plain": [
       "   RE     corr.Tag_VS_Genome_size p.corr.Tag_VS_Genome_size\n",
       "1  AlfI   0.9806213               0                        \n",
       "2  AloI   0.9890650               0                        \n",
       "3  BaeI   0.9849816               0                        \n",
       "4  BcgI   0.7235444               0                        \n",
       "5  BplI   0.9970339               0                        \n",
       "6  BsaXI  0.9961241               0                        \n",
       "7  BslFI  0.9953883               0                        \n",
       "8  Bsp24I 0.9920269               0                        \n",
       "9  CjeI   0.9988060               0                        \n",
       "10 CjePI  0.9982893               0                        \n",
       "11 CspCI  0.9975195               0                        \n",
       "12 FalI   0.9973961               0                        \n",
       "13 HaeIV  0.9861649               0                        \n",
       "14 Hin4I  0.9985167               0                        \n",
       "15 PpiI   0.9862126               0                        \n",
       "16 PsrI   0.9970329               0                        \n",
       "   corr.Tag_VS_Genome_GC p.corr.Tag_VS_Genome_GC\n",
       "1  0.9956262             0                      \n",
       "2  0.9900252             0                      \n",
       "3  0.9932390             0                      \n",
       "4  0.9944791             0                      \n",
       "5  0.9914125             0                      \n",
       "6  0.9935173             0                      \n",
       "7  0.9943404             0                      \n",
       "8  0.9920006             0                      \n",
       "9  0.9979655             0                      \n",
       "10 0.9981371             0                      \n",
       "11 0.9914580             0                      \n",
       "12 0.9951470             0                      \n",
       "13 0.9961590             0                      \n",
       "14 0.9979015             0                      \n",
       "15 0.9914528             0                      \n",
       "16 0.9704459             0                      "
      ]
     },
     "metadata": {},
     "output_type": "display_data"
    }
   ],
   "source": [
    "all_noVirus_corr<- subset(all, Kingdom!=\"virus\") %>% group_by(RE) %>% \n",
    "    summarize(corr.Tag_VS_Genome_size=cor.test(Tag_size, Genome_size)$estimate,\n",
    "              p.corr.Tag_VS_Genome_size=cor.test(Tag_size, Genome_size)$p.value, \n",
    "              corr.Tag_VS_Genome_GC=cor.test(Tag_GC_perc, Genome_GC_perc)$estimate,\n",
    "              p.corr.Tag_VS_Genome_GC=cor.test(Tag_GC_perc, Genome_GC_perc)$p.value\n",
    "             )\n",
    "\n",
    "all_noVirus_corr"
   ]
  },
  {
   "cell_type": "code",
   "execution_count": 57,
   "metadata": {},
   "outputs": [
    {
     "data": {
      "text/html": [
       "<table>\n",
       "<thead><tr><th scope=col>RE</th><th scope=col>Genome_ID</th><th scope=col>Tag_size</th><th scope=col>Tag_GC_perc</th><th scope=col>Tag_ave_interval</th><th scope=col>Genome_size</th><th scope=col>Genome_GC_perc</th><th scope=col>Kingdom</th></tr></thead>\n",
       "<tbody>\n",
       "\t<tr><td>AlfI            </td><td>GCF_000001405.38</td><td>20189344        </td><td>49.18           </td><td>5052.02         </td><td>3257319537      </td><td>41.03           </td><td>human           </td></tr>\n",
       "\t<tr><td>AlfI            </td><td>GCF_000001985.1 </td><td>  203168        </td><td>50.33           </td><td>4466.25         </td><td>  28643865      </td><td>46.93           </td><td>fungi           </td></tr>\n",
       "\t<tr><td>AlfI            </td><td>GCF_000002495.2 </td><td>  430784        </td><td>54.92           </td><td>3035.01         </td><td>  40979121      </td><td>52.19           </td><td>fungi           </td></tr>\n",
       "\t<tr><td>AlfI            </td><td>GCF_000002515.2 </td><td>   47264        </td><td>44.28           </td><td>7213.26         </td><td>  10729447      </td><td>39.07           </td><td>fungi           </td></tr>\n",
       "\t<tr><td>AlfI            </td><td>GCF_000002525.2 </td><td>  149888        </td><td>52.56           </td><td>4367.19         </td><td>  20550897      </td><td>49.38           </td><td>fungi           </td></tr>\n",
       "\t<tr><td>AlfI            </td><td>GCF_000002545.3 </td><td>   57024        </td><td>45.62           </td><td>6775.23         </td><td>  12338308      </td><td>38.98           </td><td>fungi           </td></tr>\n",
       "</tbody>\n",
       "</table>\n"
      ],
      "text/latex": [
       "\\begin{tabular}{r|llllllll}\n",
       " RE & Genome\\_ID & Tag\\_size & Tag\\_GC\\_perc & Tag\\_ave\\_interval & Genome\\_size & Genome\\_GC\\_perc & Kingdom\\\\\n",
       "\\hline\n",
       "\t AlfI               & GCF\\_000001405.38 & 20189344           & 49.18              & 5052.02            & 3257319537         & 41.03              & human             \\\\\n",
       "\t AlfI               & GCF\\_000001985.1  &   203168           & 50.33              & 4466.25            &   28643865         & 46.93              & fungi             \\\\\n",
       "\t AlfI               & GCF\\_000002495.2  &   430784           & 54.92              & 3035.01            &   40979121         & 52.19              & fungi             \\\\\n",
       "\t AlfI               & GCF\\_000002515.2  &    47264           & 44.28              & 7213.26            &   10729447         & 39.07              & fungi             \\\\\n",
       "\t AlfI               & GCF\\_000002525.2  &   149888           & 52.56              & 4367.19            &   20550897         & 49.38              & fungi             \\\\\n",
       "\t AlfI               & GCF\\_000002545.3  &    57024           & 45.62              & 6775.23            &   12338308         & 38.98              & fungi             \\\\\n",
       "\\end{tabular}\n"
      ],
      "text/markdown": [
       "\n",
       "RE | Genome_ID | Tag_size | Tag_GC_perc | Tag_ave_interval | Genome_size | Genome_GC_perc | Kingdom | \n",
       "|---|---|---|---|---|---|\n",
       "| AlfI             | GCF_000001405.38 | 20189344         | 49.18            | 5052.02          | 3257319537       | 41.03            | human            | \n",
       "| AlfI             | GCF_000001985.1  |   203168         | 50.33            | 4466.25          |   28643865       | 46.93            | fungi            | \n",
       "| AlfI             | GCF_000002495.2  |   430784         | 54.92            | 3035.01          |   40979121       | 52.19            | fungi            | \n",
       "| AlfI             | GCF_000002515.2  |    47264         | 44.28            | 7213.26          |   10729447       | 39.07            | fungi            | \n",
       "| AlfI             | GCF_000002525.2  |   149888         | 52.56            | 4367.19          |   20550897       | 49.38            | fungi            | \n",
       "| AlfI             | GCF_000002545.3  |    57024         | 45.62            | 6775.23          |   12338308       | 38.98            | fungi            | \n",
       "\n",
       "\n"
      ],
      "text/plain": [
       "  RE   Genome_ID        Tag_size Tag_GC_perc Tag_ave_interval Genome_size\n",
       "1 AlfI GCF_000001405.38 20189344 49.18       5052.02          3257319537 \n",
       "2 AlfI GCF_000001985.1    203168 50.33       4466.25            28643865 \n",
       "3 AlfI GCF_000002495.2    430784 54.92       3035.01            40979121 \n",
       "4 AlfI GCF_000002515.2     47264 44.28       7213.26            10729447 \n",
       "5 AlfI GCF_000002525.2    149888 52.56       4367.19            20550897 \n",
       "6 AlfI GCF_000002545.3     57024 45.62       6775.23            12338308 \n",
       "  Genome_GC_perc Kingdom\n",
       "1 41.03          human  \n",
       "2 46.93          fungi  \n",
       "3 52.19          fungi  \n",
       "4 39.07          fungi  \n",
       "5 49.38          fungi  \n",
       "6 38.98          fungi  "
      ]
     },
     "metadata": {},
     "output_type": "display_data"
    }
   ],
   "source": [
    "head(all)"
   ]
  },
  {
   "cell_type": "code",
   "execution_count": 13,
   "metadata": {},
   "outputs": [],
   "source": [
    "size_lab<-paste(\"rho =\", round(all_corr$corr.Tag_VS_Genome_size, 3), sep=\"\")\n",
    "GC_lab<-paste(\"rho =\", round(all_corr$corr.Tag_VS_Genome_GC, 3), sep=\"\")\n",
    "lab_df<-data.frame(x=4, y=Inf, RE=all_corr$RE, size_lab=size_lab, GC_lab=GC_lab)\n",
    "cols<-c(\"human\"=\"#CC0000\",\"archaea\"=\"#33FF00\",\"bacteria\"=\"#CC0099\", \"fungi\"=\"#0066CC\", \"virus\"=\"#FF6600\")\n"
   ]
  },
  {
   "cell_type": "code",
   "execution_count": 14,
   "metadata": {},
   "outputs": [],
   "source": [
    "size_lab<-paste(\"rho =\", round(all_noVirus_corr$corr.Tag_VS_Genome_size, 3), sep=\"\")\n",
    "GC_lab<-paste(\"rho =\", round(all_noVirus_corr$corr.Tag_VS_Genome_GC, 3), sep=\"\")\n",
    "noVirus_lab_df<-data.frame(x=4, y=Inf, RE=all_corr$RE, size_lab=size_lab, GC_lab=GC_lab)\n",
    "cols<-c(\"human\"=\"#CC0000\",\"archaea\"=\"#33FF00\",\"bacteria\"=\"#CC0099\", \"fungi\"=\"#0066CC\")\n"
   ]
  },
  {
   "cell_type": "code",
   "execution_count": null,
   "metadata": {},
   "outputs": [
    {
     "data": {},
     "metadata": {},
     "output_type": "display_data"
    }
   ],
   "source": [
    "p_size<-ggplot(subset(all, Kingdom!=\"virus\"), aes(x=log10(Tag_size), y=log10(Genome_size), color=Kingdom)) + \n",
    "    geom_point(alpha=0.1) + \n",
    "    #geom_smooth(aes(group=1))+\n",
    "    scale_colour_manual(values = cols)+\n",
    "    geom_text(data=noVirus_lab_df, aes(x=x, y=y, label=size_lab), color=\"black\", vjust=1)+\n",
    "    facet_wrap(~RE) +\n",
    "    theme_bw()+\n",
    "    theme(\n",
    "        axis.line = element_line(color=\"black\"),\n",
    "        strip.background = element_rect(colour = \"white\"),\n",
    "        panel.border = element_blank())\n",
    "p_size\n",
    "ggsave(filename=paste(outpath,\"FigureS1A.pdf\",sep=\"\"),plot=p_size, width=9, height=9)\n"
   ]
  },
  {
   "cell_type": "code",
   "execution_count": null,
   "metadata": {},
   "outputs": [],
   "source": [
    "p_GC<-ggplot(subset(all, Kingdom!=\"virus\"), aes(x=Tag_GC_perc, y=Genome_GC_perc, color=Kingdom)) + \n",
    "    geom_point(alpha=0.1) + \n",
    "    scale_colour_manual(values = cols)+\n",
    "    geom_text(data=noVirus_lab_df, aes(x=30, y=y, label=GC_lab), color=\"black\", vjust=1)+\n",
    "    facet_wrap(~RE) +\n",
    "    theme_bw()+\n",
    "    theme(\n",
    "        axis.line = element_line(color=\"black\"),\n",
    "        strip.background = element_rect(colour = \"white\"),\n",
    "        panel.border = element_blank())\n",
    "p_GC\n",
    "ggsave(filename=paste(outpath,\"FigureS1B.pdf\",sep=\"\"),plot=p_GC, width=9, height=9)\n"
   ]
  },
  {
   "cell_type": "code",
   "execution_count": null,
   "metadata": {},
   "outputs": [],
   "source": []
  },
  {
   "cell_type": "code",
   "execution_count": null,
   "metadata": {},
   "outputs": [],
   "source": []
  },
  {
   "cell_type": "code",
   "execution_count": null,
   "metadata": {},
   "outputs": [],
   "source": []
  },
  {
   "cell_type": "code",
   "execution_count": null,
   "metadata": {},
   "outputs": [],
   "source": []
  },
  {
   "cell_type": "code",
   "execution_count": null,
   "metadata": {},
   "outputs": [],
   "source": [
    "sessionInfo()"
   ]
  }
 ],
 "metadata": {
  "kernelspec": {
   "display_name": "R [conda env:r-env-ggplot2]",
   "language": "R",
   "name": "conda-env-r-env-ggplot2-r"
  },
  "language_info": {
   "codemirror_mode": "r",
   "file_extension": ".r",
   "mimetype": "text/x-r-source",
   "name": "R",
   "pygments_lexer": "r",
   "version": "3.5.1"
  }
 },
 "nbformat": 4,
 "nbformat_minor": 2
}
